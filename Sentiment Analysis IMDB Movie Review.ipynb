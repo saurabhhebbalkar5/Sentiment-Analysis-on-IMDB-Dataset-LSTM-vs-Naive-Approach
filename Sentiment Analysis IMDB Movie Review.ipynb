{
  "nbformat": 4,
  "nbformat_minor": 0,
  "metadata": {
    "kernelspec": {
      "name": "python3",
      "display_name": "Python 3"
    },
    "language_info": {
      "codemirror_mode": {
        "name": "ipython",
        "version": 3
      },
      "file_extension": ".py",
      "mimetype": "text/x-python",
      "name": "python",
      "nbconvert_exporter": "python",
      "pygments_lexer": "ipython3",
      "version": "3.6.10"
    },
    "colab": {
      "name": "Deep Learning Assignment 2.ipynb",
      "provenance": [],
      "collapsed_sections": []
    },
    "accelerator": "GPU"
  },
  "cells": [
    {
      "cell_type": "markdown",
      "metadata": {
        "id": "2FqbMeC5XBF2",
        "colab_type": "text"
      },
      "source": [
        "**Deep Learing Assignment 2**\n",
        "\n",
        "19232697: Saurabh Shashikant Hebbalkar"
      ]
    },
    {
      "cell_type": "code",
      "metadata": {
        "id": "n8BJYZHw_pT9",
        "colab_type": "code",
        "outputId": "590ce664-2b80-4201-c031-5834eac0dd3d",
        "colab": {
          "base_uri": "https://localhost:8080/",
          "height": 52
        }
      },
      "source": [
        "#Importing the required libraries\n",
        "from absl import logging\n",
        "%tensorflow_version 2.x\n",
        "import tensorflow as tf\n",
        "import tensorflow_hub as hub\n",
        "import matplotlib.pyplot as plt\n",
        "import numpy as np\n",
        "import os\n",
        "import pandas as pd\n",
        "import re\n",
        "from tensorflow.keras.optimizers import SGD, Adam\n",
        "from tensorflow.keras.preprocessing.text import Tokenizer\n",
        "from tensorflow.keras.preprocessing.sequence import pad_sequences\n",
        "from sklearn import preprocessing\n",
        "from sklearn.model_selection import train_test_split\n",
        "from sklearn.metrics import confusion_matrix\n",
        "\n",
        "import nltk\n",
        "nltk.download('stopwords')\n",
        "from nltk.corpus import stopwords\n",
        "stop = stopwords.words('english')"
      ],
      "execution_count": 0,
      "outputs": [
        {
          "output_type": "stream",
          "text": [
            "[nltk_data] Downloading package stopwords to /root/nltk_data...\n",
            "[nltk_data]   Package stopwords is already up-to-date!\n"
          ],
          "name": "stdout"
        }
      ]
    },
    {
      "cell_type": "code",
      "metadata": {
        "id": "xPEPmQ1K_pUI",
        "colab_type": "code",
        "colab": {}
      },
      "source": [
        "# Load all files from a directory into a DataFrame.\n",
        "def load_directory_data(directory):\n",
        "  data = {}\n",
        "  data[\"sentence\"] = []\n",
        "  for file_path in os.listdir(directory):\n",
        "    with tf.io.gfile.GFile(os.path.join(directory, file_path), \"r\") as f:\n",
        "      data[\"sentence\"].append(f.read())\n",
        "  return pd.DataFrame.from_dict(data)\n",
        "\n",
        "# Merge positive and negative examples, add sentiment column.\n",
        "def load_dataset(directory):\n",
        "  pos_df = load_directory_data(os.path.join(directory, \"pos\"))\n",
        "  neg_df = load_directory_data(os.path.join(directory, \"neg\"))\n",
        "  pos_df[\"sentiment\"] = 1\n",
        "  neg_df[\"sentiment\"] = 0\n",
        "  return pd.concat([pos_df, neg_df]).sample(frac=1).reset_index(drop=True)\n",
        "\n",
        "# Download and process the dataset files.\n",
        "def download_and_load_datasets(force_download=False):\n",
        "  dataset = tf.keras.utils.get_file(\n",
        "      fname=\"aclImdb.tar.gz\", \n",
        "      origin=\"http://ai.stanford.edu/~amaas/data/sentiment/aclImdb_v1.tar.gz\", \n",
        "      extract=True)\n",
        "  \n",
        "  train_df = load_dataset(os.path.join(os.path.dirname(dataset), \n",
        "                                       \"aclImdb\", \"train\"))\n",
        "  test_df = load_dataset(os.path.join(os.path.dirname(dataset), \n",
        "                                      \"aclImdb\", \"test\"))\n",
        "  \n",
        "  return train_df, test_df"
      ],
      "execution_count": 0,
      "outputs": []
    },
    {
      "cell_type": "code",
      "metadata": {
        "id": "3FQ3EdqY866q",
        "colab_type": "code",
        "outputId": "04623d6e-a16d-47c4-e01d-18572cc1809b",
        "colab": {
          "base_uri": "https://localhost:8080/",
          "height": 198
        }
      },
      "source": [
        "# Reduce logging output.\n",
        "logging.set_verbosity(logging.ERROR)\n",
        "\n",
        "#Load the dataset\n",
        "train_df, test_df = download_and_load_datasets()\n",
        "train_df.head()"
      ],
      "execution_count": 0,
      "outputs": [
        {
          "output_type": "execute_result",
          "data": {
            "text/html": [
              "<div>\n",
              "<style scoped>\n",
              "    .dataframe tbody tr th:only-of-type {\n",
              "        vertical-align: middle;\n",
              "    }\n",
              "\n",
              "    .dataframe tbody tr th {\n",
              "        vertical-align: top;\n",
              "    }\n",
              "\n",
              "    .dataframe thead th {\n",
              "        text-align: right;\n",
              "    }\n",
              "</style>\n",
              "<table border=\"1\" class=\"dataframe\">\n",
              "  <thead>\n",
              "    <tr style=\"text-align: right;\">\n",
              "      <th></th>\n",
              "      <th>sentence</th>\n",
              "      <th>sentiment</th>\n",
              "    </tr>\n",
              "  </thead>\n",
              "  <tbody>\n",
              "    <tr>\n",
              "      <th>0</th>\n",
              "      <td>Once in the Life means that once a hoodlum, al...</td>\n",
              "      <td>1</td>\n",
              "    </tr>\n",
              "    <tr>\n",
              "      <th>1</th>\n",
              "      <td>OK, I kinda like the idea of this movie. I'm i...</td>\n",
              "      <td>0</td>\n",
              "    </tr>\n",
              "    <tr>\n",
              "      <th>2</th>\n",
              "      <td>Rawhide was a wonderful TV western series. Foc...</td>\n",
              "      <td>1</td>\n",
              "    </tr>\n",
              "    <tr>\n",
              "      <th>3</th>\n",
              "      <td>My only minor quibble with the film I grew up ...</td>\n",
              "      <td>1</td>\n",
              "    </tr>\n",
              "    <tr>\n",
              "      <th>4</th>\n",
              "      <td>William Cooke and Paul Talbot share director/w...</td>\n",
              "      <td>0</td>\n",
              "    </tr>\n",
              "  </tbody>\n",
              "</table>\n",
              "</div>"
            ],
            "text/plain": [
              "                                            sentence  sentiment\n",
              "0  Once in the Life means that once a hoodlum, al...          1\n",
              "1  OK, I kinda like the idea of this movie. I'm i...          0\n",
              "2  Rawhide was a wonderful TV western series. Foc...          1\n",
              "3  My only minor quibble with the film I grew up ...          1\n",
              "4  William Cooke and Paul Talbot share director/w...          0"
            ]
          },
          "metadata": {
            "tags": []
          },
          "execution_count": 4
        }
      ]
    },
    {
      "cell_type": "code",
      "metadata": {
        "id": "nLYajvJP_pUP",
        "colab_type": "code",
        "colab": {}
      },
      "source": [
        "#Combining test and train data into one dataframe\n",
        "frames = [train_df, test_df]\n",
        "combined_df = pd.concat(frames)"
      ],
      "execution_count": 0,
      "outputs": []
    },
    {
      "cell_type": "code",
      "metadata": {
        "id": "QUvSPs2M_pUa",
        "colab_type": "code",
        "colab": {}
      },
      "source": [
        "#Data preprocessing and removing the unwanted data\n",
        "\n",
        "#Removing line break> tags \n",
        "combined_df['sentence'] = combined_df['sentence'].str.replace('<br />','')\n",
        "#Removing Numbers\n",
        "combined_df['sentence'] = combined_df['sentence'].str.replace('\\d+', '')\n",
        "#Removing -- character\n",
        "combined_df['sentence'] = combined_df['sentence'].str.replace(\"--\", '')\n",
        "#Removing Punctuations\n",
        "combined_df['sentence'] = combined_df['sentence'].str.replace('[^\\w\\s]','')\n",
        "#Converting to Lowercase\n",
        "combined_df['sentence'] = combined_df['sentence'].str.lower()\n",
        "#Removing Stop words\n",
        "combined_df['sentence'].apply(lambda x: [item for item in x if item not in stop])\n"
      ],
      "execution_count": 0,
      "outputs": []
    },
    {
      "cell_type": "code",
      "metadata": {
        "id": "DWVIC7qA_pUg",
        "colab_type": "code",
        "outputId": "cb6dfbee-918c-4ed5-9ba1-bd857825eff2",
        "colab": {
          "base_uri": "https://localhost:8080/",
          "height": 198
        }
      },
      "source": [
        "#Converting each value in a label to a number\n",
        "label_encoder = preprocessing.LabelEncoder()\n",
        "combined_df['sentiment'] = label_encoder.fit_transform(combined_df['sentiment'])\n",
        "combined_df.head()"
      ],
      "execution_count": 0,
      "outputs": [
        {
          "output_type": "execute_result",
          "data": {
            "text/html": [
              "<div>\n",
              "<style scoped>\n",
              "    .dataframe tbody tr th:only-of-type {\n",
              "        vertical-align: middle;\n",
              "    }\n",
              "\n",
              "    .dataframe tbody tr th {\n",
              "        vertical-align: top;\n",
              "    }\n",
              "\n",
              "    .dataframe thead th {\n",
              "        text-align: right;\n",
              "    }\n",
              "</style>\n",
              "<table border=\"1\" class=\"dataframe\">\n",
              "  <thead>\n",
              "    <tr style=\"text-align: right;\">\n",
              "      <th></th>\n",
              "      <th>sentence</th>\n",
              "      <th>sentiment</th>\n",
              "    </tr>\n",
              "  </thead>\n",
              "  <tbody>\n",
              "    <tr>\n",
              "      <th>0</th>\n",
              "      <td>once in the life means that once a hoodlum alw...</td>\n",
              "      <td>1</td>\n",
              "    </tr>\n",
              "    <tr>\n",
              "      <th>1</th>\n",
              "      <td>ok i kinda like the idea of this movie im in t...</td>\n",
              "      <td>0</td>\n",
              "    </tr>\n",
              "    <tr>\n",
              "      <th>2</th>\n",
              "      <td>rawhide was a wonderful tv western series focu...</td>\n",
              "      <td>1</td>\n",
              "    </tr>\n",
              "    <tr>\n",
              "      <th>3</th>\n",
              "      <td>my only minor quibble with the film i grew up ...</td>\n",
              "      <td>1</td>\n",
              "    </tr>\n",
              "    <tr>\n",
              "      <th>4</th>\n",
              "      <td>william cooke and paul talbot share directorwr...</td>\n",
              "      <td>0</td>\n",
              "    </tr>\n",
              "  </tbody>\n",
              "</table>\n",
              "</div>"
            ],
            "text/plain": [
              "                                            sentence  sentiment\n",
              "0  once in the life means that once a hoodlum alw...          1\n",
              "1  ok i kinda like the idea of this movie im in t...          0\n",
              "2  rawhide was a wonderful tv western series focu...          1\n",
              "3  my only minor quibble with the film i grew up ...          1\n",
              "4  william cooke and paul talbot share directorwr...          0"
            ]
          },
          "metadata": {
            "tags": []
          },
          "execution_count": 7
        }
      ]
    },
    {
      "cell_type": "code",
      "metadata": {
        "id": "5H21kGrR_pUo",
        "colab_type": "code",
        "colab": {}
      },
      "source": [
        "#Preparing data for Modelling and Test Train Split\n",
        "sentences = np.array(combined_df['sentence'])\n",
        "labels = np.array(combined_df['sentiment'])"
      ],
      "execution_count": 0,
      "outputs": []
    },
    {
      "cell_type": "code",
      "metadata": {
        "id": "fN9VEIW6_pUu",
        "colab_type": "code",
        "outputId": "247fc11d-b9c1-488e-c812-97fea207eaa3",
        "colab": {
          "base_uri": "https://localhost:8080/",
          "height": 52
        }
      },
      "source": [
        "#Splitting the data in to test and train with 30% for test and 70% for train\n",
        "X_train, X_test, y_train, y_test = train_test_split(sentences, labels, test_size=0.3, shuffle=True)\n",
        "print(\"Training : \",len(X_train), len(y_train))\n",
        "print(\"Testing : \",len(X_test), len(y_test))"
      ],
      "execution_count": 0,
      "outputs": [
        {
          "output_type": "stream",
          "text": [
            "Training :  35000 35000\n",
            "Testing :  15000 15000\n"
          ],
          "name": "stdout"
        }
      ]
    },
    {
      "cell_type": "code",
      "metadata": {
        "id": "tkVUP4JsxMDq",
        "colab_type": "code",
        "colab": {}
      },
      "source": [
        "# choose hyper parameters to tune\n",
        "vocab_size = 10000\n",
        "embedding_dim = 150\n",
        "max_length =  400 \n",
        "trunc_type = 'post'\n",
        "padding_type = 'post'\n",
        "oov_tok = \"<OOV>\"\n",
        "\n",
        "# import Tokenizer & fit on training text\n",
        "tokenizer = Tokenizer(num_words = vocab_size, oov_token = oov_tok)\n",
        "tokenizer.fit_on_texts(X_train)\n",
        "word_index = tokenizer.word_index\n",
        "\n",
        "# convert text to sequences\n",
        "training_sequences = tokenizer.texts_to_sequences(X_train)\n",
        "# Add padding to the X_train\n",
        "training_padded = pad_sequences(training_sequences, maxlen = max_length,\n",
        "                                padding = padding_type,\n",
        "                                truncating = trunc_type)\n",
        "# Add padding to the X_test\n",
        "testing_sequences = tokenizer.texts_to_sequences(X_test)\n",
        "testing_padded = pad_sequences(testing_sequences, maxlen = max_length,\n",
        "                                padding = padding_type,\n",
        "                                truncating = trunc_type)\n"
      ],
      "execution_count": 0,
      "outputs": []
    },
    {
      "cell_type": "code",
      "metadata": {
        "id": "7PpFNEDS_pU1",
        "colab_type": "code",
        "outputId": "4a0361b8-1446-4533-eb1e-246504db3d5a",
        "colab": {
          "base_uri": "https://localhost:8080/",
          "height": 397
        }
      },
      "source": [
        "# LSTM Model\n",
        "model = tf.keras.Sequential([\n",
        "    tf.keras.layers.Embedding(vocab_size, embedding_dim, input_length=max_length),\n",
        "    \n",
        "    tf.keras.layers.Bidirectional(tf.keras.layers.LSTM(64, return_sequences=True)),\n",
        "    tf.keras.layers.Dropout(0.3),\n",
        "    tf.keras.layers.BatchNormalization(),\n",
        "    tf.keras.layers.Dropout(0.3),\n",
        "    tf.keras.layers.Dense(128, activation = 'relu'),\n",
        "    tf.keras.layers.Dense(1, activation = 'sigmoid')\n",
        "])\n",
        "\n",
        "model.summary()"
      ],
      "execution_count": 0,
      "outputs": [
        {
          "output_type": "stream",
          "text": [
            "Model: \"sequential\"\n",
            "_________________________________________________________________\n",
            "Layer (type)                 Output Shape              Param #   \n",
            "=================================================================\n",
            "embedding (Embedding)        (None, 400, 150)          1500000   \n",
            "_________________________________________________________________\n",
            "bidirectional (Bidirectional (None, 400, 128)          110080    \n",
            "_________________________________________________________________\n",
            "dropout (Dropout)            (None, 400, 128)          0         \n",
            "_________________________________________________________________\n",
            "batch_normalization (BatchNo (None, 400, 128)          512       \n",
            "_________________________________________________________________\n",
            "dropout_1 (Dropout)          (None, 400, 128)          0         \n",
            "_________________________________________________________________\n",
            "dense (Dense)                (None, 400, 128)          16512     \n",
            "_________________________________________________________________\n",
            "dense_1 (Dense)              (None, 400, 1)            129       \n",
            "=================================================================\n",
            "Total params: 1,627,233\n",
            "Trainable params: 1,626,977\n",
            "Non-trainable params: 256\n",
            "_________________________________________________________________\n"
          ],
          "name": "stdout"
        }
      ]
    },
    {
      "cell_type": "code",
      "metadata": {
        "id": "g4bNu58nBfpW",
        "colab_type": "code",
        "outputId": "6e77cd8f-dbb5-4d80-a12b-84e5b1b7d339",
        "colab": {
          "base_uri": "https://localhost:8080/",
          "height": 363
        }
      },
      "source": [
        "# Compile model\n",
        "model.compile(loss = 'binary_crossentropy',\n",
        "            optimizer = Adam(learning_rate=0.001),\n",
        "            metrics = ['accuracy'])\n",
        "\n",
        "# Training model\n",
        "num_epochs = 10\n",
        "history = model.fit(training_padded, y_train,\n",
        "                    epochs=num_epochs,\n",
        "                    batch_size = 512,\n",
        "                    validation_data = (testing_padded, y_test),\n",
        "                    verbose=1)"
      ],
      "execution_count": 0,
      "outputs": [
        {
          "output_type": "stream",
          "text": [
            "Epoch 1/10\n",
            "69/69 [==============================] - 17s 242ms/step - loss: 0.5364 - accuracy: 0.6941 - val_loss: 0.5466 - val_accuracy: 0.8608\n",
            "Epoch 2/10\n",
            "69/69 [==============================] - 16s 232ms/step - loss: 0.2539 - accuracy: 0.9049 - val_loss: 0.5223 - val_accuracy: 0.8804\n",
            "Epoch 3/10\n",
            "69/69 [==============================] - 16s 230ms/step - loss: 0.1960 - accuracy: 0.9299 - val_loss: 0.4135 - val_accuracy: 0.8761\n",
            "Epoch 4/10\n",
            "69/69 [==============================] - 16s 229ms/step - loss: 0.1685 - accuracy: 0.9420 - val_loss: 0.3371 - val_accuracy: 0.8727\n",
            "Epoch 5/10\n",
            "69/69 [==============================] - 16s 230ms/step - loss: 0.1458 - accuracy: 0.9508 - val_loss: 0.3303 - val_accuracy: 0.8678\n",
            "Epoch 6/10\n",
            "69/69 [==============================] - 16s 229ms/step - loss: 0.1259 - accuracy: 0.9589 - val_loss: 0.3574 - val_accuracy: 0.8644\n",
            "Epoch 7/10\n",
            "69/69 [==============================] - 16s 228ms/step - loss: 0.1146 - accuracy: 0.9630 - val_loss: 0.3617 - val_accuracy: 0.8671\n",
            "Epoch 8/10\n",
            "69/69 [==============================] - 16s 227ms/step - loss: 0.0950 - accuracy: 0.9705 - val_loss: 0.3765 - val_accuracy: 0.8656\n",
            "Epoch 9/10\n",
            "69/69 [==============================] - 16s 228ms/step - loss: 0.0919 - accuracy: 0.9719 - val_loss: 0.4397 - val_accuracy: 0.8592\n",
            "Epoch 10/10\n",
            "69/69 [==============================] - 16s 227ms/step - loss: 0.0786 - accuracy: 0.9762 - val_loss: 0.5047 - val_accuracy: 0.8599\n"
          ],
          "name": "stdout"
        }
      ]
    },
    {
      "cell_type": "code",
      "metadata": {
        "id": "NitbJkIFDCHi",
        "colab_type": "code",
        "outputId": "0e9d06e5-3c93-403b-b767-eb79ac633acf",
        "colab": {
          "base_uri": "https://localhost:8080/",
          "height": 590
        }
      },
      "source": [
        "#Plotting the LSTM performance graph\n",
        "def plot_graphs(history, string):\n",
        "    plt.plot(history.history[string])\n",
        "    plt.plot(history.history['val_'+string])\n",
        "    plt.xlabel('Epochs')\n",
        "    plt.ylabel(string)\n",
        "    plt.title(\"LSTM Model\")\n",
        "    plt.legend([string, 'Val_' + string])\n",
        "    plt.show()\n",
        "    plt.savefig(string)\n",
        "    \n",
        "plot_graphs(history, \"accuracy\")\n",
        "plot_graphs(history,\"loss\")"
      ],
      "execution_count": 0,
      "outputs": [
        {
          "output_type": "display_data",
          "data": {
            "image/png": "[encoded data removed]",
            "text/plain": [
              "<Figure size 432x288 with 1 Axes>"
            ]
          },
          "metadata": {
            "tags": [],
            "needs_background": "light"
          }
        },
        {
          "output_type": "display_data",
          "data": {
            "image/png": "[encoded data removed]",
            "text/plain": [
              "<Figure size 432x288 with 1 Axes>"
            ]
          },
          "metadata": {
            "tags": [],
            "needs_background": "light"
          }
        },
        {
          "output_type": "display_data",
          "data": {
            "text/plain": [
              "<Figure size 432x288 with 0 Axes>"
            ]
          },
          "metadata": {
            "tags": []
          }
        }
      ]
    },
    {
      "cell_type": "code",
      "metadata": {
        "id": "J1la3xpvwLGp",
        "colab_type": "code",
        "outputId": "c93d75a4-1da7-4d73-82c0-d8d3db9fa738",
        "colab": {
          "base_uri": "https://localhost:8080/",
          "height": 259
        }
      },
      "source": [
        "# Naive Model: Simple RNN\n",
        "\n",
        "model_2 = tf.keras.Sequential([\n",
        "    tf.keras.layers.Embedding(vocab_size, embedding_dim, input_length=max_length),\n",
        "    \n",
        "    # Simple RNN\n",
        "    tf.keras.layers.SimpleRNN(128, activation='tanh'),\n",
        "    tf.keras.layers.Dense(1, activation = 'sigmoid')\n",
        "])\n",
        "\n",
        "model_2.summary()"
      ],
      "execution_count": 0,
      "outputs": [
        {
          "output_type": "stream",
          "text": [
            "Model: \"sequential_1\"\n",
            "_________________________________________________________________\n",
            "Layer (type)                 Output Shape              Param #   \n",
            "=================================================================\n",
            "embedding_1 (Embedding)      (None, 400, 150)          1500000   \n",
            "_________________________________________________________________\n",
            "simple_rnn (SimpleRNN)       (None, 128)               35712     \n",
            "_________________________________________________________________\n",
            "dense_2 (Dense)              (None, 1)                 129       \n",
            "=================================================================\n",
            "Total params: 1,535,841\n",
            "Trainable params: 1,535,841\n",
            "Non-trainable params: 0\n",
            "_________________________________________________________________\n"
          ],
          "name": "stdout"
        }
      ]
    },
    {
      "cell_type": "code",
      "metadata": {
        "id": "ve_0RDwrxVhg",
        "colab_type": "code",
        "outputId": "dcc62645-48c4-4205-c6a1-cab80363fd9b",
        "colab": {
          "base_uri": "https://localhost:8080/",
          "height": 363
        }
      },
      "source": [
        "# Compile model\n",
        "model_2.compile(loss = 'binary_crossentropy',\n",
        "            optimizer = SGD(),\n",
        "            metrics = ['accuracy'])\n",
        "\n",
        "# Training model\n",
        "num_epochs = 10\n",
        "history = model_2.fit(training_padded, y_train,\n",
        "                    epochs=num_epochs,\n",
        "                    validation_data = (testing_padded, y_test),\n",
        "                    batch_size = 512,\n",
        "                    verbose=1)"
      ],
      "execution_count": 0,
      "outputs": [
        {
          "output_type": "stream",
          "text": [
            "Epoch 1/10\n",
            "69/69 [==============================] - 37s 532ms/step - loss: 0.6940 - accuracy: 0.4975 - val_loss: 0.6936 - val_accuracy: 0.5023\n",
            "Epoch 2/10\n",
            "69/69 [==============================] - 37s 533ms/step - loss: 0.6937 - accuracy: 0.5039 - val_loss: 0.6933 - val_accuracy: 0.5006\n",
            "Epoch 3/10\n",
            "69/69 [==============================] - 37s 529ms/step - loss: 0.6935 - accuracy: 0.5023 - val_loss: 0.6932 - val_accuracy: 0.4993\n",
            "Epoch 4/10\n",
            "69/69 [==============================] - 37s 533ms/step - loss: 0.6933 - accuracy: 0.5017 - val_loss: 0.6932 - val_accuracy: 0.5029\n",
            "Epoch 5/10\n",
            "69/69 [==============================] - 36s 524ms/step - loss: 0.6932 - accuracy: 0.5070 - val_loss: 0.6931 - val_accuracy: 0.5052\n",
            "Epoch 6/10\n",
            "69/69 [==============================] - 36s 527ms/step - loss: 0.6930 - accuracy: 0.5065 - val_loss: 0.6933 - val_accuracy: 0.5007\n",
            "Epoch 7/10\n",
            "69/69 [==============================] - 36s 525ms/step - loss: 0.6929 - accuracy: 0.5031 - val_loss: 0.6932 - val_accuracy: 0.5035\n",
            "Epoch 8/10\n",
            "69/69 [==============================] - 37s 533ms/step - loss: 0.6927 - accuracy: 0.5075 - val_loss: 0.6931 - val_accuracy: 0.5067\n",
            "Epoch 9/10\n",
            "69/69 [==============================] - 37s 536ms/step - loss: 0.6926 - accuracy: 0.5071 - val_loss: 0.6931 - val_accuracy: 0.5059\n",
            "Epoch 10/10\n",
            "69/69 [==============================] - 37s 535ms/step - loss: 0.6924 - accuracy: 0.5095 - val_loss: 0.6931 - val_accuracy: 0.5049\n"
          ],
          "name": "stdout"
        }
      ]
    },
    {
      "cell_type": "code",
      "metadata": {
        "id": "iG0rJTSi1bGj",
        "colab_type": "code",
        "outputId": "aa7d37ec-a92a-4962-83f2-c97345e18b86",
        "colab": {
          "base_uri": "https://localhost:8080/",
          "height": 573
        }
      },
      "source": [
        "#Plotting the Simple RNN performance graph\n",
        "def plot_graphs(history, string):\n",
        "    plt.plot(history.history[string])\n",
        "    plt.plot(history.history['val_'+string])\n",
        "    plt.xlabel('Epochs')\n",
        "    plt.ylabel(string)\n",
        "    plt.title(\"Simple RNN\")\n",
        "    plt.legend([string, 'Val_' + string])\n",
        "    plt.show()\n",
        "    \n",
        "plot_graphs(history, \"accuracy\")\n",
        "plot_graphs(history,\"loss\")"
      ],
      "execution_count": 0,
      "outputs": [
        {
          "output_type": "display_data",
          "data": {
            "image/png": "[encoded data removed]",
            "text/plain": [
              "<Figure size 432x288 with 1 Axes>"
            ]
          },
          "metadata": {
            "tags": [],
            "needs_background": "light"
          }
        },
        {
          "output_type": "display_data",
          "data": {
            "image/png": "[encoded data removed]",
            "text/plain": [
              "<Figure size 432x288 with 1 Axes>"
            ]
          },
          "metadata": {
            "tags": [],
            "needs_background": "light"
          }
        }
      ]
    }
  ]
}
